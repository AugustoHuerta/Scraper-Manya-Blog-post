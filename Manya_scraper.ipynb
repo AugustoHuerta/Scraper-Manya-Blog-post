{
  "cells": [
    {
      "cell_type": "markdown",
      "metadata": {
        "id": "view-in-github",
        "colab_type": "text"
      },
      "source": [
        "<a href=\"https://colab.research.google.com/github/AugustoHuerta/Scraper-Manya-Blog-post/blob/main/Manya_scraper.ipynb\" target=\"_parent\"><img src=\"https://colab.research.google.com/assets/colab-badge.svg\" alt=\"Open In Colab\"/></a>"
      ]
    },
    {
      "cell_type": "markdown",
      "source": [
        "# Este es un scraper que recopila características esenciales de cada artículo del blog de Manya.pe\n"
      ],
      "metadata": {
        "id": "dqC2-aGaAoAb"
      },
      "id": "dqC2-aGaAoAb"
    },
    {
      "cell_type": "markdown",
      "source": [
        "Este es un scraper que recopila:\n",
        "1. El título.\n",
        "2. El número de imágenes.\n",
        "3. El nombre del autor.\n",
        "4. El título del autor.\n",
        "5. La fecha.\n",
        "6. La url.\n",
        "\n",
        "<p>De cada artículo del blog de Manya.pe en un archivo .csv.</p>"
      ],
      "metadata": {
        "id": "Om0w2gx-BGrE"
      },
      "id": "Om0w2gx-BGrE"
    },
    {
      "cell_type": "markdown",
      "source": [
        "Es de libre uso y según el robots.txt de Manya.pe, está permitido.\n"
      ],
      "metadata": {
        "id": "lIYDblouA6NB"
      },
      "id": "lIYDblouA6NB"
    },
    {
      "cell_type": "markdown",
      "source": [
        "¡Empezemos!"
      ],
      "metadata": {
        "id": "NFx-EyndBe1J"
      },
      "id": "NFx-EyndBe1J"
    },
    {
      "cell_type": "markdown",
      "source": [
        "## Creación de nuestra sopa madre"
      ],
      "metadata": {
        "id": "4CqZiATcVZ3e"
      },
      "id": "4CqZiATcVZ3e"
    },
    {
      "cell_type": "markdown",
      "source": [
        "Descargamos los módulos necesarios. (Google Colab ya tiene estos módulos por defecto)"
      ],
      "metadata": {
        "id": "kZk0WzokhUAi"
      },
      "id": "kZk0WzokhUAi"
    },
    {
      "cell_type": "code",
      "source": [
        "!pip install bs4\n",
        "!pip install lxml\n",
        "!pip install requests"
      ],
      "metadata": {
        "colab": {
          "base_uri": "https://localhost:8080/"
        },
        "id": "B4rHonhhOxr9",
        "outputId": "a4bf2e37-0979-4710-c938-f5b1c452ae0b"
      },
      "id": "B4rHonhhOxr9",
      "execution_count": 57,
      "outputs": [
        {
          "output_type": "stream",
          "name": "stdout",
          "text": [
            "Requirement already satisfied: bs4 in /usr/local/lib/python3.7/dist-packages (0.0.1)\n",
            "Requirement already satisfied: beautifulsoup4 in /usr/local/lib/python3.7/dist-packages (from bs4) (4.6.3)\n",
            "Requirement already satisfied: lxml in /usr/local/lib/python3.7/dist-packages (4.2.6)\n",
            "Requirement already satisfied: requests in /usr/local/lib/python3.7/dist-packages (2.23.0)\n",
            "Requirement already satisfied: chardet<4,>=3.0.2 in /usr/local/lib/python3.7/dist-packages (from requests) (3.0.4)\n",
            "Requirement already satisfied: idna<3,>=2.5 in /usr/local/lib/python3.7/dist-packages (from requests) (2.10)\n",
            "Requirement already satisfied: urllib3!=1.25.0,!=1.25.1,<1.26,>=1.21.1 in /usr/local/lib/python3.7/dist-packages (from requests) (1.24.3)\n",
            "Requirement already satisfied: certifi>=2017.4.17 in /usr/local/lib/python3.7/dist-packages (from requests) (2021.10.8)\n"
          ]
        }
      ]
    },
    {
      "cell_type": "markdown",
      "source": [
        "Importamos las módulos necesarios para este proyecto"
      ],
      "metadata": {
        "id": "PFwLpdtHUO_I"
      },
      "id": "PFwLpdtHUO_I"
    },
    {
      "cell_type": "code",
      "execution_count": 58,
      "id": "7d159466",
      "metadata": {
        "id": "7d159466"
      },
      "outputs": [],
      "source": [
        "from bs4 import BeautifulSoup\n",
        "import requests\n",
        "import csv"
      ]
    },
    {
      "cell_type": "markdown",
      "source": [
        "Definimos la url en donde estará el listado de los artículos y le hacemos la request."
      ],
      "metadata": {
        "id": "sby2V703UbjG"
      },
      "id": "sby2V703UbjG"
    },
    {
      "cell_type": "code",
      "execution_count": 59,
      "id": "b77b92ce",
      "metadata": {
        "id": "b77b92ce"
      },
      "outputs": [],
      "source": [
        "url_main = 'https://manya.pe/blog/'\n",
        "url_main_r = requests.get(url_main)"
      ]
    },
    {
      "cell_type": "markdown",
      "source": [
        "Revisamos que no exista problema con la request."
      ],
      "metadata": {
        "id": "AdXaUlZ4Uvdr"
      },
      "id": "AdXaUlZ4Uvdr"
    },
    {
      "cell_type": "code",
      "execution_count": 60,
      "id": "c0483ccb",
      "metadata": {
        "colab": {
          "base_uri": "https://localhost:8080/"
        },
        "id": "c0483ccb",
        "outputId": "a730869a-e292-4463-dda1-5e9165e46faf"
      },
      "outputs": [
        {
          "output_type": "stream",
          "name": "stdout",
          "text": [
            "No problem\n"
          ]
        }
      ],
      "source": [
        "if url_main_r.status_code == 200:\n",
        "   print('No problem')\n",
        "else:\n",
        "  print('Uh. There is something wrong here')"
      ]
    },
    {
      "cell_type": "markdown",
      "source": [
        "Y creamos nuestra sopa:"
      ],
      "metadata": {
        "id": "4hmlCVdKVInY"
      },
      "id": "4hmlCVdKVInY"
    },
    {
      "cell_type": "code",
      "source": [
        "soup = BeautifulSoup(url_main_r.text, 'lxml')"
      ],
      "metadata": {
        "id": "5pGi4ePJU527"
      },
      "id": "5pGi4ePJU527",
      "execution_count": 61,
      "outputs": []
    },
    {
      "cell_type": "markdown",
      "source": [
        "## Exploramos cómo obtener las urls de todos los blogpost"
      ],
      "metadata": {
        "id": "GAN8O6W-VNyt"
      },
      "id": "GAN8O6W-VNyt"
    },
    {
      "cell_type": "markdown",
      "source": [
        "En este punto debemos encontrar cómo Manya organiza sus artículos,\n",
        "buscar el tag en común que comparten y explotarlo para obtener las urls."
      ],
      "metadata": {
        "id": "1zDVIXJOrKkn"
      },
      "id": "1zDVIXJOrKkn"
    },
    {
      "cell_type": "markdown",
      "source": [
        "### El mapa al tesoro: El tag que agrupa todos los artículos de Manya"
      ],
      "metadata": {
        "id": "sjeZbZcfgehl"
      },
      "id": "sjeZbZcfgehl"
    },
    {
      "cell_type": "markdown",
      "source": [
        "<p>En este caso encontramos que Manya agrupa todos sus blog post en tags \"articles\".</p>\n",
        "<p>Aquí como:</p>\n",
        "\n",
        "[![Imagen con dirreción a video explicativo](https://img.youtube.com/vi/uXYuaVxmSxQ/0.jpg)](https://youtu.be/uXYuaVxmSxQ)\n",
        "\n",
        "\n",
        "---\n",
        "\n",
        "\n"
      ],
      "metadata": {
        "id": "K4eOhLchV_ww"
      },
      "id": "K4eOhLchV_ww"
    },
    {
      "cell_type": "markdown",
      "source": [
        "Por lo que probamos encontrar todos los elementos con el tag 'article'.\n"
      ],
      "metadata": {
        "id": "8Fs26pVZfaja"
      },
      "id": "8Fs26pVZfaja"
    },
    {
      "cell_type": "code",
      "source": [
        "soup.find_all('article')"
      ],
      "metadata": {
        "id": "etf8XsrvU5sz"
      },
      "id": "etf8XsrvU5sz",
      "execution_count": null,
      "outputs": []
    },
    {
      "cell_type": "markdown",
      "source": [
        "BINGO. Los elementos corresponden con los artículos vistos.\n",
        "<p>Ahora los guardamos en la variable \"articles\".</p>"
      ],
      "metadata": {
        "id": "bd6k-iY4gAzy"
      },
      "id": "bd6k-iY4gAzy"
    },
    {
      "cell_type": "code",
      "source": [
        "articles = soup.find_all('article')"
      ],
      "metadata": {
        "id": "7nalxamAgJW6"
      },
      "id": "7nalxamAgJW6",
      "execution_count": 63,
      "outputs": []
    },
    {
      "cell_type": "markdown",
      "source": [
        "Y, por diversión, revisemos cuántos artículos ha publicado Manya en total:"
      ],
      "metadata": {
        "id": "D-IuC10ggMS1"
      },
      "id": "D-IuC10ggMS1"
    },
    {
      "cell_type": "code",
      "execution_count": 64,
      "id": "0608d076",
      "metadata": {
        "colab": {
          "base_uri": "https://localhost:8080/"
        },
        "id": "0608d076",
        "outputId": "076c73a9-0381-43d6-a760-68f1a5ca32ae"
      },
      "outputs": [
        {
          "output_type": "execute_result",
          "data": {
            "text/plain": [
              "95"
            ]
          },
          "metadata": {},
          "execution_count": 64
        }
      ],
      "source": [
        "len(articles)"
      ]
    },
    {
      "cell_type": "markdown",
      "source": [
        "### Enlistar todas las url de los blogs"
      ],
      "metadata": {
        "id": "R4gRWQxpgrsg"
      },
      "id": "R4gRWQxpgrsg"
    },
    {
      "cell_type": "markdown",
      "source": [
        "Buscamos ahora en qué parte del tag \"article\" está el tag \"a\" que contiene los \"href\" (Las urls de cada artículo) para guardarlas en una lista.\n",
        "\n",
        "---\n",
        "\n"
      ],
      "metadata": {
        "id": "swOVCar9iTni"
      },
      "id": "swOVCar9iTni"
    },
    {
      "cell_type": "markdown",
      "source": [
        "Análisamos el output de el primer artículo de nuestra lista"
      ],
      "metadata": {
        "id": "2llJ4YRsinJf"
      },
      "id": "2llJ4YRsinJf"
    },
    {
      "cell_type": "code",
      "source": [
        "articles[0]"
      ],
      "metadata": {
        "colab": {
          "base_uri": "https://localhost:8080/"
        },
        "id": "Jt82E3BIg9Lu",
        "outputId": "133b4809-207e-422a-b8cb-91318c5a9aed"
      },
      "id": "Jt82E3BIg9Lu",
      "execution_count": 65,
      "outputs": [
        {
          "output_type": "execute_result",
          "data": {
            "text/plain": [
              "<article class=\"elementor-post elementor-grid-item post-26508 post type-post status-publish format-standard has-post-thumbnail hentry category-performance-marketing\"><div class=\"elementor-post__card\">\n",
              "<a class=\"elementor-post__thumbnail__link\" href=\"https://manya.pe/llama-al-exito-con-tus-call-to-action/\"><div class=\"elementor-post__thumbnail\"><img alt=\"Conoce cómo crear un call to action efectivo AQUÍ.\" class=\"attachment-medium size-medium\" data-lazyloaded=\"1\" data-placeholder-resp=\"300x157\" data-sizes=\"(max-width: 767px) 89vw, (max-width: 1000px) 54vw, (max-width: 1071px) 543px, 580px\" data-src=\"https://manya.pe/wp-content/uploads/2022/04/Portada-3-300x157.png\" data-srcset=\"https://manya.pe/wp-content/uploads/2022/04/Portada-3-300x157.png 300w, https://manya.pe/wp-content/uploads/2022/04/Portada-3.png 665w\" height=\"157\" src=\"data:image/svg+xml;base64,PHN2ZyB4bWxucz0iaHR0cDovL3d3dy53My5vcmcvMjAwMC9zdmciIHdpZHRoPSIzMDAiIGhlaWdodD0iMTU3IiB2aWV3Qm94PSIwIDAgMzAwIDE1NyI+PHJlY3Qgd2lkdGg9IjEwMCUiIGhlaWdodD0iMTAwJSIgc3R5bGU9ImZpbGw6I2NmZDRkYjtmaWxsLW9wYWNpdHk6IDAuMTsiLz48L3N2Zz4=\" width=\"300\"/></div></a><div class=\"elementor-post__badge\">Performance Marketing</div><div class=\"elementor-post__text\"><h3 class=\"elementor-post__title\">\n",
              "<a href=\"https://manya.pe/llama-al-exito-con-tus-call-to-action/\">\n",
              "¡Llama al éxito con tus call to action! </a></h3><div class=\"elementor-post__excerpt\"><p>Aprovecha los textos que podemos usar para que tus call to action sean más atractivos.</p></div>\n",
              "<a class=\"elementor-post__read-more\" href=\"https://manya.pe/llama-al-exito-con-tus-call-to-action/\">\n",
              "¿Te interesa? </a></div><div class=\"elementor-post__meta-data\">\n",
              "<span class=\"elementor-post-date\">\n",
              "13 abril, 2022 </span></div></div></article>"
            ]
          },
          "metadata": {},
          "execution_count": 65
        }
      ]
    },
    {
      "cell_type": "markdown",
      "source": [
        "Encontramos que el \"href\" está ubicado en uno de los \"a\" tags. Por lo tanto buscamos todos los \"a\" tags"
      ],
      "metadata": {
        "id": "DovJ0kWgizOj"
      },
      "id": "DovJ0kWgizOj"
    },
    {
      "cell_type": "code",
      "execution_count": 66,
      "id": "e8ad7dac",
      "metadata": {
        "colab": {
          "base_uri": "https://localhost:8080/"
        },
        "id": "e8ad7dac",
        "outputId": "4cbc1cdb-f016-43bb-f201-93ccaff12100"
      },
      "outputs": [
        {
          "output_type": "execute_result",
          "data": {
            "text/plain": [
              "[<a class=\"elementor-post__thumbnail__link\" href=\"https://manya.pe/reinventamos-la-pasion/\"><div class=\"elementor-post__thumbnail\"><img alt=\"\" class=\"attachment-medium size-medium\" data-lazyloaded=\"1\" data-placeholder-resp=\"300x154\" data-sizes=\"(max-width: 767px) 89vw, (max-width: 1000px) 54vw, (max-width: 1071px) 543px, 580px\" data-src=\"https://manya.pe/wp-content/uploads/2011/11/220816-COCINA-W_0018_19-REINVENTAMOS-LA-PASION-300x154.jpg\" data-srcset=\"https://manya.pe/wp-content/uploads/2011/11/220816-COCINA-W_0018_19-REINVENTAMOS-LA-PASION-300x154.jpg 300w, https://manya.pe/wp-content/uploads/2011/11/220816-COCINA-W_0018_19-REINVENTAMOS-LA-PASION.jpg 700w\" height=\"154\" src=\"data:image/svg+xml,%3Csvg%20xmlns%3D%22http%3A%2F%2Fwww.w3.org%2F2000%2Fsvg%22%20width%3D%22300%22%20height%3D%22154%22%20viewBox%3D%220%200%20300%20154%22%3E%3Cfilter%20id%3D%22b%22%3E%3CfeGaussianBlur%20stdDeviation%3D%2212%22%20%2F%3E%3C%2Ffilter%3E%3Cpath%20fill%3D%22%23cdcdcd%22%20d%3D%22M0%200h300v153H0z%22%2F%3E%3Cg%20filter%3D%22url(%23b)%22%20transform%3D%22translate(.6%20.6)%20scale(1.17188)%22%20fill-opacity%3D%22.5%22%3E%3Cellipse%20fill%3D%22%237f7f7f%22%20rx%3D%221%22%20ry%3D%221%22%20transform%3D%22matrix(-1.21362%20-29.42771%2064.38194%20-2.65515%20132.4%2052.9)%22%2F%3E%3Cellipse%20fill%3D%22%23f8f8f8%22%20cx%3D%2217%22%20cy%3D%2251%22%20rx%3D%2230%22%20ry%3D%22255%22%2F%3E%3Cellipse%20fill%3D%22%23f9f9f9%22%20rx%3D%221%22%20ry%3D%221%22%20transform%3D%22matrix(-13.8632%2025.46167%20-91.30544%20-49.71337%20249.1%2020.6)%22%2F%3E%3Cellipse%20fill%3D%22%23f1f1f1%22%20rx%3D%221%22%20ry%3D%221%22%20transform%3D%22matrix(1.79479%2023.86989%20-157.17656%2011.81816%20170.5%20119.4)%22%2F%3E%3C%2Fg%3E%3C%2Fsvg%3E\" width=\"300\"/></div></a>,\n",
              " <a href=\"https://manya.pe/reinventamos-la-pasion/\">\n",
              " Reinventamos la pasión… </a>,\n",
              " <a class=\"elementor-post__read-more\" href=\"https://manya.pe/reinventamos-la-pasion/\">\n",
              " ¿Te interesa? </a>]"
            ]
          },
          "metadata": {},
          "execution_count": 66
        }
      ],
      "source": [
        "articles[94].find_all('a')"
      ]
    },
    {
      "cell_type": "markdown",
      "source": [
        "Y entendemos que el \"href\" está en el segundo y tercer tag. Por lo tanto lo obtenemos con la siguiente línea:"
      ],
      "metadata": {
        "id": "TyEaS2z-jESS"
      },
      "id": "TyEaS2z-jESS"
    },
    {
      "cell_type": "code",
      "source": [
        "articles[94].find_all('a')[2].get('href')"
      ],
      "metadata": {
        "colab": {
          "base_uri": "https://localhost:8080/",
          "height": 36
        },
        "id": "WddgPTzhjMpy",
        "outputId": "a0332155-8cf3-4a19-a109-b0824c72f583"
      },
      "id": "WddgPTzhjMpy",
      "execution_count": 67,
      "outputs": [
        {
          "output_type": "execute_result",
          "data": {
            "text/plain": [
              "'https://manya.pe/reinventamos-la-pasion/'"
            ],
            "application/vnd.google.colaboratory.intrinsic+json": {
              "type": "string"
            }
          },
          "metadata": {},
          "execution_count": 67
        }
      ]
    },
    {
      "cell_type": "markdown",
      "source": [
        "Con este dato, enlistamos todas las urls de todos los artículo con un list comprenhension:"
      ],
      "metadata": {
        "id": "MTamOtzyjYD7"
      },
      "id": "MTamOtzyjYD7"
    },
    {
      "cell_type": "code",
      "execution_count": 68,
      "id": "d0004787",
      "metadata": {
        "id": "d0004787"
      },
      "outputs": [],
      "source": [
        "url_articles = [articles[i].find_all('a')[2].get('href') for i in range(len(articles))]"
      ]
    },
    {
      "cell_type": "markdown",
      "source": [
        "Corroboramos nuestra lista:"
      ],
      "metadata": {
        "id": "y3u2Xmzqji-K"
      },
      "id": "y3u2Xmzqji-K"
    },
    {
      "cell_type": "code",
      "execution_count": 69,
      "id": "ef6afe79",
      "metadata": {
        "colab": {
          "base_uri": "https://localhost:8080/"
        },
        "id": "ef6afe79",
        "outputId": "7cc4d074-1a34-480d-edd6-5f80dfd3a45e"
      },
      "outputs": [
        {
          "output_type": "execute_result",
          "data": {
            "text/plain": [
              "['https://manya.pe/llama-al-exito-con-tus-call-to-action/',\n",
              " 'https://manya.pe/todo-lo-que-tienes-que-saber-para-un-adecuado-mantenimiento-web/',\n",
              " 'https://manya.pe/haz-que-tu-identidad-de-marca-conecte-con-tu-target/',\n",
              " 'https://manya.pe/por-estas-razones-un-buen-diseno-web-puede-incrementar-tus-resultados/',\n",
              " 'https://manya.pe/marcas-y-temas-sociales-como-dar-el-mensaje-correcto/',\n",
              " 'https://manya.pe/cuidar-tu-web-es-la-mejor-forma-de-hacer-crecer-tu-negocio-en-internet/',\n",
              " 'https://manya.pe/ponte-trendy-con-lo-ultimo-en-influencer-marketing/',\n",
              " 'https://manya.pe/vender-sin-vender-herramientas-para-un-marketing-mas-humano/',\n",
              " 'https://manya.pe/7-tips-para-mejorar-los-microcopys-de-tu-pagina-web/',\n",
              " 'https://manya.pe/barriga-llena-cliente-contento-conoce-el-caso-de-exito-panza-brava/',\n",
              " 'https://manya.pe/el-verano-2022-esta-afectando-tu-estrategia-de-marketing/',\n",
              " 'https://manya.pe/los-5-secretos-detras-de-un-gran-copy/',\n",
              " 'https://manya.pe/como-tener-una-web-exitosa-manya-te-lo-cuenta-con-hechos/',\n",
              " 'https://manya.pe/digitalizacion-estrategica-bcp-manya-plataforma-crece/',\n",
              " 'https://manya.pe/5-claves-marketeras-para-iniciar-bien-este-2022/',\n",
              " 'https://manya.pe/el-poder-de-conocer-bien-a-tu-publico-caso-de-exito-ceba-cesar-vallejo/',\n",
              " 'https://manya.pe/asegura-el-exito-de-tu-e-commerce-esta-navidad/',\n",
              " 'https://manya.pe/que-puede-hacer-una-landing-page-por-tu-negocio-conoce-el-caso-de-clinica-dental-alemana/',\n",
              " 'https://manya.pe/5-razones-porque-el-mes-del-millon-de-cirsa-fue-una-campana-genial/',\n",
              " 'https://manya.pe/los-mejores-formatos-de-anuncio-segun-tus-objetivos-en-facebook-ads/',\n",
              " 'https://manya.pe/9-pildoras-que-acabaran-con-tus-sufrimientos-en-marketing/',\n",
              " 'https://manya.pe/caso-sierra-andina-un-relanzamiento-exitoso/',\n",
              " 'https://manya.pe/supera-tus-miedos-al-generar-nuevas-campanas-en-rrss/',\n",
              " 'https://manya.pe/5-ideas-creativas-para-tus-campanas-este-halloween/',\n",
              " 'https://manya.pe/todo-lo-que-necesitas-saber-sobre-segmentacion-en-peru/',\n",
              " 'https://manya.pe/5-increibles-metodologias-de-organizacion-y-como-aplicarlas/',\n",
              " 'https://manya.pe/creo-contenido-y-manejo-mis-redes-o-lo-tercerizo/',\n",
              " 'https://manya.pe/renovar-vs-redisenar-descubre-la-re-que-necesita-tu-web/',\n",
              " 'https://manya.pe/el-boom-de-los-videos-en-redes-sociales-como-y-para-que-usarlos/',\n",
              " 'https://manya.pe/renuevo-mi-marca-o-creo-una-nueva/',\n",
              " 'https://manya.pe/el-tamano-si-importa-una-guia-basica-para-definir-el-largo-de-tus-textos/',\n",
              " 'https://manya.pe/5-herramientas-para-saber-si-tu-website-necesita-otros-especialistas/',\n",
              " 'https://manya.pe/sabes-que-redes-sociales-usa-tu-publico-objetivo/',\n",
              " 'https://manya.pe/haz-tu-agosto-5-consejos-para-potenciar-tu-estrategia-digital-2021/',\n",
              " 'https://manya.pe/marketing-tiktokero-4-consejos-para-vender-en-tik-tok/',\n",
              " 'https://manya.pe/aplica-seo-en-tus-videos-y-haz-que-te-encuentren-y-te-vean-en-youtube-gratis/',\n",
              " 'https://manya.pe/mi-competencia-me-copia-que-hago/',\n",
              " 'https://manya.pe/landing-page-o-pagina-web-cual-debo-elegir-en-mi-estrategia-de-marketing/',\n",
              " 'https://manya.pe/crece-el-escenario-digital-en-el-peru-y-manya-crece-contigo%f0%9f%87%b5%f0%9f%87%aa/',\n",
              " 'https://manya.pe/5-ideas-para-incrementar-la-tasa-de-apertura-de-tus-mailing/',\n",
              " 'https://manya.pe/campanas-de-marketing-persuasion-mas-alla-de-lo-comercial/',\n",
              " 'https://manya.pe/aprende-a-medir-el-performance-de-las-campanas-de-marketing-de-tu-agencia/',\n",
              " 'https://manya.pe/miniguia-del-marketing-inmobiliario-las-claves-del-exito/',\n",
              " 'https://manya.pe/acaso-necesito-una-estrategia-de-marketing-digital-para-mi-negocio-%f0%9f%a4%94/',\n",
              " 'https://manya.pe/marketing-de-contenidos-el-arte-de-entender-que-necesitan-tus-clientes/',\n",
              " 'https://manya.pe/las-5-industrias-mas-afectadas-por-los-reviews-online/',\n",
              " 'https://manya.pe/psicologia-positiva-y-trabajo-tips-para-aplicar-en-tu-entorno-laboral/',\n",
              " 'https://manya.pe/haz-algo-con-el-blog-de-tu-marca/',\n",
              " 'https://manya.pe/linkedin-para-empresas-todo-lo-que-necesitas-saber/',\n",
              " 'https://manya.pe/no-entiendes-de-que-esta-hablando-tu-agencia/',\n",
              " 'https://manya.pe/es-buena-idea-seguir-con-tu-actual-agencia-de-marketing-digital/',\n",
              " 'https://manya.pe/sabes-como-destacar-tu-contenido-de-marca-en-tik-tok/',\n",
              " 'https://manya.pe/vender-por-redes-sociales-realidad-o-mito/',\n",
              " 'https://manya.pe/top-10-trends-del-marketing-digital-para-el-2021/',\n",
              " 'https://manya.pe/guia-corta-para-encontrar-a-tu-influencer/',\n",
              " 'https://manya.pe/que-debes-hacer-si-tu-web-no-esta-convirtiendo/',\n",
              " 'https://manya.pe/cual-es-kpi-mas-importante-en-publicidad/',\n",
              " 'https://manya.pe/la-creacion-del-superhumano/',\n",
              " 'https://manya.pe/como-una-campana-digital-puede-alcanzar-el-exito/',\n",
              " 'https://manya.pe/lo-que-tu-negocio-necesita-este-2017/',\n",
              " 'https://manya.pe/como-pokemon-go-acelera-la-revolucion-digital/',\n",
              " 'https://manya.pe/suenas-con-tu-exito-antes-de-dormir/',\n",
              " 'https://manya.pe/para-que-politicas-y-terminos/',\n",
              " 'https://manya.pe/redes-sociales-que-generan-valor-venden-o-no-venden/',\n",
              " 'https://manya.pe/tendencias-de-consumo-para-el-2015/',\n",
              " 'https://manya.pe/pymes-crecen-al-adaptar-version-web-del-negocio-a-dispositivos-moviles/',\n",
              " 'https://manya.pe/gestion-profesional-del-area-digital-de-tu-empresa/',\n",
              " 'https://manya.pe/creacion-de-una-pagina-web-persuasiva-para-generar-mas-clientes/',\n",
              " 'https://manya.pe/auditoria-y-consultoria-de-marketing-digital/',\n",
              " 'https://manya.pe/manejo-de-campanas-digitales/',\n",
              " 'https://manya.pe/aplicaciones-moviles-ux/',\n",
              " 'https://manya.pe/creacion-de-imagen-e-identidad-corporativa/',\n",
              " 'https://manya.pe/metodologia-lean-startup/',\n",
              " 'https://manya.pe/metodologia-scrum/',\n",
              " 'https://manya.pe/metodologia-design-thinking/',\n",
              " 'https://manya.pe/metodologia-lean-ux/',\n",
              " 'https://manya.pe/porque-ser-el-primero-en-google-ya-no-es-suficiente/',\n",
              " 'https://manya.pe/cuanto-te-cuesta-un-cliente/',\n",
              " 'https://manya.pe/que-genera-felicidad-en-tus-clientes/',\n",
              " 'https://manya.pe/la-receta-perfecta-para-tu-pagina-web/',\n",
              " 'https://manya.pe/invertiste-en-tu-web-y-no-tienes-resultados/',\n",
              " 'https://manya.pe/como-hacer-un-focus-group-con-100-personas/',\n",
              " 'https://manya.pe/articulos-emocionales/',\n",
              " 'https://manya.pe/no-hacemos-paginas-web-creamos-negocios/',\n",
              " 'https://manya.pe/quiero-una-pagina-web-economica/',\n",
              " 'https://manya.pe/enterate-de-algunos-de-nuestros-secretos/',\n",
              " 'https://manya.pe/ux-no-es-el-objetivo-solo-es-el-camino/',\n",
              " 'https://manya.pe/cuanto-cuesta-una-pagina-web/',\n",
              " 'https://manya.pe/esta-la-competencia-mejor-que-tu/',\n",
              " 'https://manya.pe/tu-pagina-web-no-es-una-tarjeta-de-presentacion/',\n",
              " 'https://manya.pe/yo-tambien-quiero-el-exito-de-mi-pagina-web/',\n",
              " 'https://manya.pe/las-palabras-tienen-poder/',\n",
              " 'https://manya.pe/es-posible-vender-por-internet/',\n",
              " 'https://manya.pe/esta-navidad-todo-es-posible/',\n",
              " 'https://manya.pe/reinventamos-la-pasion/']"
            ]
          },
          "metadata": {},
          "execution_count": 69
        }
      ],
      "source": [
        "url_articles"
      ]
    },
    {
      "cell_type": "markdown",
      "source": [
        "Bingo!"
      ],
      "metadata": {
        "id": "Dbne2TdejpOm"
      },
      "id": "Dbne2TdejpOm"
    },
    {
      "cell_type": "markdown",
      "source": [
        "## Obtener las características principales de cada artículo"
      ],
      "metadata": {
        "id": "m2TdEqFYjqRd"
      },
      "id": "m2TdEqFYjqRd"
    },
    {
      "cell_type": "markdown",
      "source": [
        "Ahora debemos crear un función que nos permita obtener:\n",
        "1. El título.\n",
        "2. El número de imágenes.\n",
        "3. El nombre del autor.\n",
        "4. El título del autor.\n",
        "5. La fecha del artículo.\n",
        "6. La url del artículo.\n",
        "\n",
        "<p>De cada artículo.</p>\n",
        "<p>¡Comenzemos!</p>"
      ],
      "metadata": {
        "id": "YhZpy8v_qeLB"
      },
      "id": "YhZpy8v_qeLB"
    },
    {
      "cell_type": "markdown",
      "source": [
        "### Creamos la sopa del artículo."
      ],
      "metadata": {
        "id": "eRD9HUnSriTC"
      },
      "id": "eRD9HUnSriTC"
    },
    {
      "cell_type": "markdown",
      "source": [
        "<p>En este caso usamos el artículo número 10 (\"Barriga llena, cliente contento: conoce el caso de éxito Panza Brava\") para hacer nuestro análisis.</p>\n",
        "\n",
        "<p>¿Por qué este artículo? Es el primero que encontre con imágenes dentro del artículo.</p>"
      ],
      "metadata": {
        "id": "vkXg5eG0sS-4"
      },
      "id": "vkXg5eG0sS-4"
    },
    {
      "cell_type": "code",
      "execution_count": 70,
      "id": "2a5df080",
      "metadata": {
        "colab": {
          "base_uri": "https://localhost:8080/"
        },
        "id": "2a5df080",
        "outputId": "4f649626-1b97-479c-a54e-b6fdc909a986"
      },
      "outputs": [
        {
          "output_type": "stream",
          "name": "stdout",
          "text": [
            "Sopa lograda\n"
          ]
        }
      ],
      "source": [
        "url = url_articles[9]\n",
        "try:\n",
        "  url_article_request = requests.get(url)\n",
        "  sopita = BeautifulSoup(url_article_request.text,'lxml')\n",
        "  print(\"Sopa lograda\")\n",
        "except Exception as error:\n",
        "  print(\"Ocurrío un error al hacer la request\")\n",
        "  print(error)"
      ]
    },
    {
      "cell_type": "markdown",
      "source": [
        "### Obtenemos las palabras y número de imágenes del artículo"
      ],
      "metadata": {
        "id": "w4ia_IrKtpDs"
      },
      "id": "w4ia_IrKtpDs"
    },
    {
      "cell_type": "markdown",
      "source": [
        "En este caso encontramos que el texto se encuentra en el primer sub-tag \"div\" del main-tag \"div\" con un data-id de \"d6c4145\".\n",
        "\n",
        "(Como nota personal, me dí cuenta que usar la func \"find\" para el tag \"div class=\"elementor-widget-wrap\"\" me daba 45 tags con estas mismas características para el blog de Manya. Entonces para encontrar el que yo quería me fui a un \"div\" que tuviera un \"id\" único para el html pero igual para TODOS los artículos)"
      ],
      "metadata": {
        "id": "mRnbpaACtxjs"
      },
      "id": "mRnbpaACtxjs"
    },
    {
      "cell_type": "code",
      "execution_count": 71,
      "id": "3acb5373",
      "metadata": {
        "id": "3acb5373"
      },
      "outputs": [],
      "source": [
        "main_article = sopita.find('div', {'data-id':'d6c4145'}).find('div')\n"
      ]
    },
    {
      "cell_type": "code",
      "source": [
        "len(sopita.find_all('div', {'class':'elementor-widget-container'}))"
      ],
      "metadata": {
        "colab": {
          "base_uri": "https://localhost:8080/"
        },
        "id": "YR97jb9-S9Uc",
        "outputId": "64c85755-6654-4e11-eafd-19ace3c34c07"
      },
      "id": "YR97jb9-S9Uc",
      "execution_count": 87,
      "outputs": [
        {
          "output_type": "execute_result",
          "data": {
            "text/plain": [
              "127"
            ]
          },
          "metadata": {},
          "execution_count": 87
        }
      ]
    },
    {
      "cell_type": "markdown",
      "source": [
        "Ahora para encontrar el número de imágenes solo debemos buscar todos los tags \"img\" en el texto y pasarle un len()."
      ],
      "metadata": {
        "id": "cR4OXOC9vNge"
      },
      "id": "cR4OXOC9vNge"
    },
    {
      "cell_type": "code",
      "source": [
        "len(main_article.find_all('img'))"
      ],
      "metadata": {
        "colab": {
          "base_uri": "https://localhost:8080/"
        },
        "id": "BNt8bS730K1E",
        "outputId": "e358da0a-d6c9-430f-835a-4e04a33a9c57"
      },
      "id": "BNt8bS730K1E",
      "execution_count": 72,
      "outputs": [
        {
          "output_type": "execute_result",
          "data": {
            "text/plain": [
              "5"
            ]
          },
          "metadata": {},
          "execution_count": 72
        }
      ]
    },
    {
      "cell_type": "markdown",
      "source": [
        "Luego guardamos todas las palabras del texto en una variable \"words\" en 2 pasos:\n",
        "1. Le asignamos cada tag de todo el texto a la variable \"words\" con un list comprenhension.\n",
        "2. Guardamos cada texto de cada tag en nuestra variable \"words\" con otros list comprenhension"
      ],
      "metadata": {
        "id": "DuEhh6Yb0Xk4"
      },
      "id": "DuEhh6Yb0Xk4"
    },
    {
      "cell_type": "code",
      "execution_count": 89,
      "id": "9f4aa9b0",
      "metadata": {
        "id": "9f4aa9b0"
      },
      "outputs": [],
      "source": [
        "words = [tag for tag in main_article]\n",
        "words = [tag.get_text() for tag in words]"
      ]
    },
    {
      "cell_type": "markdown",
      "source": [
        "Luego juntamos todas las palabras en la variable \"all_strs\", todas en un único string con el método \"join\"."
      ],
      "metadata": {
        "id": "JGiuAKx41Sj0"
      },
      "id": "JGiuAKx41Sj0"
    },
    {
      "cell_type": "code",
      "execution_count": 74,
      "id": "b426051f",
      "metadata": {
        "id": "b426051f"
      },
      "outputs": [],
      "source": [
        "all_strs = \"\".join(words)"
      ]
    },
    {
      "cell_type": "markdown",
      "source": [
        "Corroboramos que tengamos todo el texto del artículo."
      ],
      "metadata": {
        "id": "fYrCRgtt1lHh"
      },
      "id": "fYrCRgtt1lHh"
    },
    {
      "cell_type": "code",
      "execution_count": null,
      "id": "0a9219fe",
      "metadata": {
        "id": "0a9219fe"
      },
      "outputs": [],
      "source": [
        "all_strs"
      ]
    },
    {
      "cell_type": "markdown",
      "source": [
        "Luego obtenemos el número de las palabrac con \"len()\" y el método \"split\"."
      ],
      "metadata": {
        "id": "yOzC0vWa134z"
      },
      "id": "yOzC0vWa134z"
    },
    {
      "cell_type": "code",
      "execution_count": 76,
      "id": "58571d2f",
      "metadata": {
        "colab": {
          "base_uri": "https://localhost:8080/"
        },
        "id": "58571d2f",
        "outputId": "86ecd066-0217-4905-d853-636625870163"
      },
      "outputs": [
        {
          "output_type": "execute_result",
          "data": {
            "text/plain": [
              "1118"
            ]
          },
          "metadata": {},
          "execution_count": 76
        }
      ],
      "source": [
        "word_count = len(all_strs.split())\n",
        "word_count"
      ]
    },
    {
      "cell_type": "markdown",
      "source": [
        "### Obtenemos las demás características:"
      ],
      "metadata": {
        "id": "d0U5j6fx2K1K"
      },
      "id": "d0U5j6fx2K1K"
    },
    {
      "cell_type": "markdown",
      "source": [
        "Encontramos en dónde están ubicados nuestros datos para cada característica.\n",
        "- Por ejemplo el caso del nombre del autor se encuentra en el tag \"h4\" del tag \"div class='elementor-author-box__text'\""
      ],
      "metadata": {
        "id": "CdCwdS1q2Xka"
      },
      "id": "CdCwdS1q2Xka"
    },
    {
      "cell_type": "code",
      "execution_count": 90,
      "id": "a7587c76",
      "metadata": {
        "colab": {
          "base_uri": "https://localhost:8080/"
        },
        "id": "a7587c76",
        "outputId": "02fac347-b1dc-4818-a4a0-1607ffb480f6"
      },
      "outputs": [
        {
          "output_type": "stream",
          "name": "stdout",
          "text": [
            "\n",
            "Andrea Palomino , Redactora Creativa\n"
          ]
        }
      ],
      "source": [
        "autor = sopita.find_all('div', class_='elementor-author-box__text')[0]\n",
        "autor_name = autor.find('h4').get_text()\n",
        "autor_job = autor.find('div',class_=\"elementor-author-box__bio\").get_text().strip()\n",
        "print(autor_name,\",\", autor_job)"
      ]
    },
    {
      "cell_type": "markdown",
      "source": [
        "Ahora lo aplicamos para cada característica que queremos ver:"
      ],
      "metadata": {
        "id": "g7dpt7iL3yh-"
      },
      "id": "g7dpt7iL3yh-"
    },
    {
      "cell_type": "code",
      "execution_count": 91,
      "id": "a14deca8",
      "metadata": {
        "colab": {
          "base_uri": "https://localhost:8080/",
          "height": 36
        },
        "id": "a14deca8",
        "outputId": "a677f23a-a536-41cb-810d-1fc1d3169235"
      },
      "outputs": [
        {
          "output_type": "execute_result",
          "data": {
            "text/plain": [
              "'11 febrero, 2022'"
            ],
            "application/vnd.google.colaboratory.intrinsic+json": {
              "type": "string"
            }
          },
          "metadata": {},
          "execution_count": 91
        }
      ],
      "source": [
        "date = sopita.find_all('span', class_='elementor-icon-list-text elementor-post-info__item elementor-post-info__item--type-date')[0].get_text().strip()\n",
        "date"
      ]
    },
    {
      "cell_type": "code",
      "execution_count": 92,
      "id": "c2e1f870",
      "metadata": {
        "colab": {
          "base_uri": "https://localhost:8080/",
          "height": 36
        },
        "id": "c2e1f870",
        "outputId": "56f18060-dddb-453e-ee22-35eafd969f90"
      },
      "outputs": [
        {
          "output_type": "execute_result",
          "data": {
            "text/plain": [
              "'Barriga llena, cliente contento: conoce el caso de éxito Panza Brava'"
            ],
            "application/vnd.google.colaboratory.intrinsic+json": {
              "type": "string"
            }
          },
          "metadata": {},
          "execution_count": 92
        }
      ],
      "source": [
        "tittle = sopita.find_all('h1')[0].get_text().strip()\n",
        "tittle"
      ]
    },
    {
      "cell_type": "markdown",
      "source": [
        "## Guardar las características de cada artículo en un .csv"
      ],
      "metadata": {
        "id": "C_BSqYom4CQC"
      },
      "id": "C_BSqYom4CQC"
    },
    {
      "cell_type": "markdown",
      "source": [
        "### Crear la función que encapsule todo el proceso de arriba:"
      ],
      "metadata": {
        "id": "0nO2FJM04er4"
      },
      "id": "0nO2FJM04er4"
    },
    {
      "cell_type": "markdown",
      "source": [
        "Esta nos retorna un dic con cada key como característica y cada value como valor de la key."
      ],
      "metadata": {
        "id": "zmnqx7hG4lUu"
      },
      "id": "zmnqx7hG4lUu"
    },
    {
      "cell_type": "code",
      "execution_count": 95,
      "id": "6be944ee",
      "metadata": {
        "colab": {
          "base_uri": "https://localhost:8080/"
        },
        "id": "6be944ee",
        "outputId": "a6046ac0-2e6a-4c2e-c6b7-24c3368211ef"
      },
      "outputs": [
        {
          "output_type": "stream",
          "name": "stdout",
          "text": [
            "{'Tittle': 'Todo lo que tienes que saber para un adecuado mantenimiento web', 'Word_count': 448, 'Image_count': 1, 'Autor': 'Roy Sandoval', 'Autor_job': 'Community Manager | Editor de Contenido', 'Date': '8 abril, 2022', 'Url': 'https://manya.pe/todo-lo-que-tienes-que-saber-para-un-adecuado-mantenimiento-web/'}\n"
          ]
        }
      ],
      "source": [
        "def article_chars(url):\n",
        "    url_article_request = requests.get(url)\n",
        "    sopita = BeautifulSoup(url_article_request.text,'lxml')\n",
        "    text = sopita.find('div', {'data-id':'d6c4145'}).find('div')\n",
        "    words = [tag for tag in text]\n",
        "    words = \"\".join([tag.get_text() for tag in words])\n",
        "    word_count = len(words.split())\n",
        "    autor = sopita.find_all('div', class_='elementor-author-box__text')[0]\n",
        "    autor_name = autor.find('h4').get_text().strip()\n",
        "    autor_job = autor.find('div',class_=\"elementor-author-box__bio\").get_text().strip()\n",
        "    date = sopita.find_all('span', class_='elementor-icon-list-text elementor-post-info__item elementor-post-info__item--type-date')[0].get_text().strip()\n",
        "    tittle = sopita.find_all('h1')[0].get_text().strip()\n",
        "    image_count = len(text.find_all('img')) + 1\n",
        "    return {'Tittle':tittle,\n",
        "            'Word_count': word_count,\n",
        "           'Image_count':image_count,\n",
        "            'Autor': autor_name,\n",
        "            'Autor_job': autor_job,\n",
        "            'Date': date,\n",
        "            'Url' : url\n",
        "           }\n",
        "article1 = article_chars('https://manya.pe/todo-lo-que-tienes-que-saber-para-un-adecuado-mantenimiento-web/')\n",
        "print(article1)\n"
      ]
    },
    {
      "cell_type": "markdown",
      "source": [
        "### Guardar todos estos dict en una lista"
      ],
      "metadata": {
        "id": "j2j3FEim4xUK"
      },
      "id": "j2j3FEim4xUK"
    },
    {
      "cell_type": "code",
      "execution_count": 96,
      "id": "574c793b",
      "metadata": {
        "colab": {
          "base_uri": "https://localhost:8080/"
        },
        "id": "574c793b",
        "outputId": "92092dcc-6456-4b79-be34-f8d1d12abbd2"
      },
      "outputs": [
        {
          "output_type": "stream",
          "name": "stdout",
          "text": [
            "Obtenido articulo N*1\n",
            "Obtenido articulo N*2\n",
            "Obtenido articulo N*3\n",
            "Obtenido articulo N*4\n",
            "Obtenido articulo N*5\n",
            "Obtenido articulo N*6\n",
            "Obtenido articulo N*7\n",
            "Obtenido articulo N*8\n",
            "Obtenido articulo N*9\n",
            "Obtenido articulo N*10\n",
            "Obtenido articulo N*11\n",
            "Obtenido articulo N*12\n",
            "Obtenido articulo N*13\n",
            "Obtenido articulo N*14\n",
            "Obtenido articulo N*15\n",
            "Obtenido articulo N*16\n",
            "Obtenido articulo N*17\n",
            "Obtenido articulo N*18\n",
            "Obtenido articulo N*19\n",
            "Obtenido articulo N*20\n",
            "Obtenido articulo N*21\n",
            "Obtenido articulo N*22\n",
            "Obtenido articulo N*23\n",
            "Obtenido articulo N*24\n",
            "Obtenido articulo N*25\n",
            "Obtenido articulo N*26\n",
            "Obtenido articulo N*27\n",
            "Obtenido articulo N*28\n",
            "Obtenido articulo N*29\n",
            "Obtenido articulo N*30\n",
            "Obtenido articulo N*31\n",
            "Obtenido articulo N*32\n",
            "Obtenido articulo N*33\n",
            "Obtenido articulo N*34\n",
            "Obtenido articulo N*35\n",
            "Obtenido articulo N*36\n",
            "Obtenido articulo N*37\n",
            "Obtenido articulo N*38\n",
            "Obtenido articulo N*39\n",
            "Obtenido articulo N*40\n",
            "Obtenido articulo N*41\n",
            "Obtenido articulo N*42\n",
            "Obtenido articulo N*43\n",
            "Obtenido articulo N*44\n",
            "Obtenido articulo N*45\n",
            "Obtenido articulo N*46\n",
            "Obtenido articulo N*47\n",
            "Obtenido articulo N*48\n",
            "Obtenido articulo N*49\n",
            "Obtenido articulo N*50\n",
            "Obtenido articulo N*51\n",
            "Obtenido articulo N*52\n",
            "Obtenido articulo N*53\n",
            "Obtenido articulo N*54\n",
            "Obtenido articulo N*55\n",
            "Obtenido articulo N*56\n",
            "Obtenido articulo N*57\n",
            "Obtenido articulo N*58\n",
            "Obtenido articulo N*59\n",
            "Obtenido articulo N*60\n",
            "Obtenido articulo N*61\n",
            "Obtenido articulo N*62\n",
            "Obtenido articulo N*63\n",
            "Obtenido articulo N*64\n",
            "Obtenido articulo N*65\n",
            "Obtenido articulo N*66\n",
            "Obtenido articulo N*67\n",
            "Obtenido articulo N*68\n",
            "Obtenido articulo N*69\n",
            "Obtenido articulo N*70\n",
            "Obtenido articulo N*71\n",
            "Obtenido articulo N*72\n",
            "Obtenido articulo N*73\n",
            "Obtenido articulo N*74\n",
            "Obtenido articulo N*75\n",
            "Obtenido articulo N*76\n",
            "Obtenido articulo N*77\n",
            "Obtenido articulo N*78\n",
            "Obtenido articulo N*79\n",
            "Obtenido articulo N*80\n",
            "Obtenido articulo N*81\n",
            "Obtenido articulo N*82\n",
            "Obtenido articulo N*83\n",
            "Obtenido articulo N*84\n",
            "Obtenido articulo N*85\n",
            "Obtenido articulo N*86\n",
            "Obtenido articulo N*87\n",
            "Obtenido articulo N*88\n",
            "Obtenido articulo N*89\n",
            "Obtenido articulo N*90\n",
            "Obtenido articulo N*91\n",
            "Obtenido articulo N*92\n",
            "Obtenido articulo N*93\n",
            "Obtenido articulo N*94\n",
            "Obtenido articulo N*95\n"
          ]
        }
      ],
      "source": [
        "chars_all_articles = []\n",
        "count = 0\n",
        "for url in url_articles:\n",
        "    count += 1\n",
        "    article1 = article_chars(url)\n",
        "    chars_all_articles.append(article1)\n",
        "    print(f\"Obtenido articulo N*{count}\")"
      ]
    },
    {
      "cell_type": "markdown",
      "source": [
        "### Escribirlo en un archivo .csv"
      ],
      "metadata": {
        "id": "RuotwBPc44W7"
      },
      "id": "RuotwBPc44W7"
    },
    {
      "cell_type": "markdown",
      "source": [
        "<p>Debido a que no existen como tal \"columnas\" en un archivo .csv (A diferencia de un excel) reconfiguré la lista para que puediera funcionar.<p>\n",
        "<p>Lo hice con de esta manera:<p>\n",
        "1. Crear una lista con los títulos de cada característica (Tittle, name_autor, etc)<p>\n",
        "2. Luego obtener una lista conteniendo cada valor de cada dict que obtuvimos en el paso anterior.<p>\n",
        "3. Juntarlas y usar esta lista hija para añadir rows en nuestro archivo."
      ],
      "metadata": {
        "id": "oWEVVciY5K5G"
      },
      "id": "oWEVVciY5K5G"
    },
    {
      "cell_type": "code",
      "execution_count": 97,
      "id": "6aa6afe3",
      "metadata": {
        "id": "6aa6afe3"
      },
      "outputs": [],
      "source": [
        "chars_all_articles1 = [list(chars_all_articles[0].keys())] + [list(dicter.values()) for dicter in chars_all_articles]"
      ]
    },
    {
      "cell_type": "markdown",
      "source": [
        "Luego ejecutamos esta línea de código para poder guardar el archivo \"test.csv\" en tu drive.\n",
        "<p>Pedira tu autorización y solo le das aceptar"
      ],
      "metadata": {
        "id": "yITk7jB3AO4P"
      },
      "id": "yITk7jB3AO4P"
    },
    {
      "cell_type": "code",
      "source": [
        "from google.colab import drive\n",
        "drive.mount('/content/drive/')"
      ],
      "metadata": {
        "colab": {
          "base_uri": "https://localhost:8080/"
        },
        "id": "RIvQmbBfRs0x",
        "outputId": "e91e3cda-ee45-4216-ddab-ab3abcfdc26e"
      },
      "id": "RIvQmbBfRs0x",
      "execution_count": 98,
      "outputs": [
        {
          "output_type": "stream",
          "name": "stdout",
          "text": [
            "Drive already mounted at /content/drive/; to attempt to forcibly remount, call drive.mount(\"/content/drive/\", force_remount=True).\n"
          ]
        }
      ]
    },
    {
      "cell_type": "markdown",
      "source": [
        "Y creamos nuesro archivo \"test.csv\", obteniendo en cada línea las características de cada artículo."
      ],
      "metadata": {
        "id": "6lGSgw8PAaRG"
      },
      "id": "6lGSgw8PAaRG"
    },
    {
      "cell_type": "code",
      "source": [
        "with open('/content/drive/MyDrive/test.csv', 'w') as f:\n",
        "    writer = csv.writer(f)\n",
        "    for i in range(len(chars_all_articles1)):\n",
        "        print(chars_all_articles1[i])\n",
        "        tittle = chars_all_articles1[i][0]\n",
        "        Word_count = chars_all_articles1[i][1]\n",
        "        Image_count = chars_all_articles1[i][2]\n",
        "        Autor = chars_all_articles1[i][3]\n",
        "        Autor_job = chars_all_articles1[i][4]\n",
        "        Date =chars_all_articles1[i][5]\n",
        "        Url = chars_all_articles1[i][6]\n",
        "        writer.writerow([tittle,Word_count,Image_count,Autor,Autor_job,Date,Url])"
      ],
      "metadata": {
        "colab": {
          "base_uri": "https://localhost:8080/"
        },
        "id": "gzPBcDSSSvYB",
        "outputId": "964eb9fa-5b57-4c43-9556-84216a375535"
      },
      "id": "gzPBcDSSSvYB",
      "execution_count": 99,
      "outputs": [
        {
          "output_type": "stream",
          "name": "stdout",
          "text": [
            "['Tittle', 'Word_count', 'Image_count', 'Autor', 'Autor_job', 'Date', 'Url']\n",
            "['¡Llama al éxito con tus call to action!', 507, 1, 'Renato Trujillo', 'Community Manager Jr.', '13 abril, 2022', 'https://manya.pe/llama-al-exito-con-tus-call-to-action/']\n",
            "['Todo lo que tienes que saber para un adecuado mantenimiento web', 448, 1, 'Roy Sandoval', 'Community Manager | Editor de Contenido', '8 abril, 2022', 'https://manya.pe/todo-lo-que-tienes-que-saber-para-un-adecuado-mantenimiento-web/']\n",
            "['Haz que tu identidad de marca conecte con tu target', 799, 1, 'Andrea Palomino', 'Redactora Creativa', '1 abril, 2022', 'https://manya.pe/haz-que-tu-identidad-de-marca-conecte-con-tu-target/']\n",
            "['Por estas razones un buen diseño web puede incrementar tus resultados', 591, 1, 'Adriana Huanca', 'Redactora Creativa', '25 marzo, 2022', 'https://manya.pe/por-estas-razones-un-buen-diseno-web-puede-incrementar-tus-resultados/']\n",
            "['Marcas y temas sociales: ¿Cómo dar el mensaje correcto?', 627, 1, 'Antony Castillo', 'Redactor creativo', '19 marzo, 2022', 'https://manya.pe/marcas-y-temas-sociales-como-dar-el-mensaje-correcto/']\n",
            "['Cuidar tu web es la mejor forma de hacer crecer tu negocio en internet', 520, 1, 'Gad Grandez', 'Desarrollador Web', '11 marzo, 2022', 'https://manya.pe/cuidar-tu-web-es-la-mejor-forma-de-hacer-crecer-tu-negocio-en-internet/']\n",
            "['Ponte trendy con lo último en Influencer Marketing', 994, 1, 'Andrea Palomino', 'Redactora Creativa', '4 marzo, 2022', 'https://manya.pe/ponte-trendy-con-lo-ultimo-en-influencer-marketing/']\n",
            "['Vender sin vender: Herramientas para un marketing más humano', 559, 1, 'Antony Castillo', 'Redactor creativo', '25 febrero, 2022', 'https://manya.pe/vender-sin-vender-herramientas-para-un-marketing-mas-humano/']\n",
            "['7 tips para mejorar los microcopys de tu página web', 548, 1, 'Clara Pomareda', 'Redactora Creativa', '18 febrero, 2022', 'https://manya.pe/7-tips-para-mejorar-los-microcopys-de-tu-pagina-web/']\n",
            "['Barriga llena, cliente contento: conoce el caso de éxito Panza Brava', 1118, 6, 'Andrea Palomino', 'Redactora Creativa', '11 febrero, 2022', 'https://manya.pe/barriga-llena-cliente-contento-conoce-el-caso-de-exito-panza-brava/']\n",
            "['¿El verano 2022 está afectando tu estrategia de marketing?', 558, 1, 'Renato Trujillo', 'Community Manager Jr.', '4 febrero, 2022', 'https://manya.pe/el-verano-2022-esta-afectando-tu-estrategia-de-marketing/']\n",
            "['Los 5 secretos detrás de un gran copy', 328, 1, 'Clara Pomareda', 'Redactora Creativa', '28 enero, 2022', 'https://manya.pe/los-5-secretos-detras-de-un-gran-copy/']\n",
            "['¿Cómo tener una web exitosa? Manya te lo cuenta con hechos', 757, 1, 'Antony Castillo', 'Redactor creativo', '21 enero, 2022', 'https://manya.pe/como-tener-una-web-exitosa-manya-te-lo-cuenta-con-hechos/']\n",
            "['Digitalización estratégica: BCP + Manya = Plataforma Crece', 287, 1, 'Aldo Baca', 'Lean Leader Creativo', '14 enero, 2022', 'https://manya.pe/digitalizacion-estrategica-bcp-manya-plataforma-crece/']\n",
            "['5 claves marketeras para iniciar bien este 2022', 578, 1, 'Aldo Baca', 'Lean Leader Creativo', '7 enero, 2022', 'https://manya.pe/5-claves-marketeras-para-iniciar-bien-este-2022/']\n",
            "['El poder de conocer bien a tu público: Caso de éxito CEBA César Vallejo', 1008, 1, 'Antony Castillo', 'Redactor creativo', '17 diciembre, 2021', 'https://manya.pe/el-poder-de-conocer-bien-a-tu-publico-caso-de-exito-ceba-cesar-vallejo/']\n",
            "['¡Asegura el éxito de tu e-commerce esta Navidad!', 822, 1, 'Renato Trujillo', 'Community Manager Jr.', '10 diciembre, 2021', 'https://manya.pe/asegura-el-exito-de-tu-e-commerce-esta-navidad/']\n",
            "['¿Qué puede hacer una landing page por tu negocio? Conoce el caso de Clínica Dental Alemana', 1094, 4, 'Andrea Palomino', 'Redactora Creativa', '3 diciembre, 2021', 'https://manya.pe/que-puede-hacer-una-landing-page-por-tu-negocio-conoce-el-caso-de-clinica-dental-alemana/']\n",
            "['5 razones porque el Mes del Millón de Cirsa fue una campaña genial', 648, 1, 'Aldo Baca', 'Lean Leader Creativo', '26 noviembre, 2021', 'https://manya.pe/5-razones-porque-el-mes-del-millon-de-cirsa-fue-una-campana-genial/']\n",
            "['Los mejores formatos de anuncio según tus objetivos en Facebook Ads', 856, 4, 'Braulio Palús', 'Analista de Medios', '19 noviembre, 2021', 'https://manya.pe/los-mejores-formatos-de-anuncio-segun-tus-objetivos-en-facebook-ads/']\n",
            "['9 píldoras que acabarán con tus sufrimientos en marketing', 665, 10, 'Yankale Hochman', 'CEO de la Agencia Manya.pe', '12 noviembre, 2021', 'https://manya.pe/9-pildoras-que-acabaran-con-tus-sufrimientos-en-marketing/']\n",
            "['Caso Sierra Andina: un relanzamiento exitoso', 1197, 4, 'Andrea Palomino', 'Redactora Creativa', '5 noviembre, 2021', 'https://manya.pe/caso-sierra-andina-un-relanzamiento-exitoso/']\n",
            "['Supera tus miedos al generar nuevas campañas en RRSS', 1156, 1, 'Renato Trujillo', 'Community Manager Jr.', '29 octubre, 2021', 'https://manya.pe/supera-tus-miedos-al-generar-nuevas-campanas-en-rrss/']\n",
            "['5 ideas creativas para tus campañas este Halloween', 953, 3, 'Andrea Palomino', 'Redactora Creativa', '22 octubre, 2021', 'https://manya.pe/5-ideas-creativas-para-tus-campanas-este-halloween/']\n",
            "['Todo lo que necesitas saber sobre segmentación en Perú', 862, 1, 'Antony Castillo', 'Redactor creativo', '15 octubre, 2021', 'https://manya.pe/todo-lo-que-necesitas-saber-sobre-segmentacion-en-peru/']\n",
            "['5 increíbles metodologías de organización y cómo aplicarlas', 812, 1, 'Aldo Baca', 'Lean Leader Creativo', '7 octubre, 2021', 'https://manya.pe/5-increibles-metodologias-de-organizacion-y-como-aplicarlas/']\n",
            "['¿Creo contenido y manejo mis redes o lo tercerizo?', 496, 1, 'Andrea Palomino', 'Redactora Creativa', '1 octubre, 2021', 'https://manya.pe/creo-contenido-y-manejo-mis-redes-o-lo-tercerizo/']\n",
            "['REnovar vs. REdiseñar: Descubre cuál RE necesita tu web', 653, 2, 'Team Manya', '', '24 septiembre, 2021', 'https://manya.pe/renovar-vs-redisenar-descubre-la-re-que-necesita-tu-web/']\n",
            "['El boom de los videos en redes sociales, ¿cómo y para qué usarlos?', 955, 1, 'Antony Castillo', 'Redactor creativo', '17 septiembre, 2021', 'https://manya.pe/el-boom-de-los-videos-en-redes-sociales-como-y-para-que-usarlos/']\n",
            "['🤔 ¿Renuevo mi marca o creo una nueva?', 575, 4, 'Aldo Baca', 'Lean Leader Creativo', '10 septiembre, 2021', 'https://manya.pe/renuevo-mi-marca-o-creo-una-nueva/']\n",
            "['El tamaño sí importa: una guía básica para definir el largo de tus textos', 1012, 1, 'Andrea Palomino', 'Redactora Creativa', '3 septiembre, 2021', 'https://manya.pe/el-tamano-si-importa-una-guia-basica-para-definir-el-largo-de-tus-textos/']\n",
            "['5 herramientas para saber si tu website necesita (otros) especialistas', 658, 1, 'Team Manya', '', '27 agosto, 2021', 'https://manya.pe/5-herramientas-para-saber-si-tu-website-necesita-otros-especialistas/']\n",
            "['¿Sabes qué redes sociales usa tu público objetivo?', 462, 1, 'Team Manya', '', '20 agosto, 2021', 'https://manya.pe/sabes-que-redes-sociales-usa-tu-publico-objetivo/']\n",
            "['¡Haz tu agosto! 5 consejos para potenciar tu estrategia digital 2021', 834, 1, 'Antony Castillo', 'Redactor creativo', '13 agosto, 2021', 'https://manya.pe/haz-tu-agosto-5-consejos-para-potenciar-tu-estrategia-digital-2021/']\n",
            "['Marketing tiktokero: 4 consejos para vender en TikTok', 940, 1, 'Team Manya', '', '6 agosto, 2021', 'https://manya.pe/marketing-tiktokero-4-consejos-para-vender-en-tik-tok/']\n",
            "['Haz que te encuentren y te vean en Youtube ¡GRATIS!', 1030, 1, 'Aldo Baca', 'Lean Leader Creativo', '30 julio, 2021', 'https://manya.pe/aplica-seo-en-tus-videos-y-haz-que-te-encuentren-y-te-vean-en-youtube-gratis/']\n",
            "['Mi competencia me copia, ¿qué hago?', 437, 1, 'Team Manya', '', '23 julio, 2021', 'https://manya.pe/mi-competencia-me-copia-que-hago/']\n",
            "['¿Landing page o página web? ¿Cuál debo elegir en mi estrategia de marketing?', 755, 1, 'Team Manya', '', '16 julio, 2021', 'https://manya.pe/landing-page-o-pagina-web-cual-debo-elegir-en-mi-estrategia-de-marketing/']\n",
            "['¡Crece el escenario digital en el Perú y Manya crece contigo! 🇵🇪', 673, 1, 'Aldo Baca', 'Lean Leader Creativo', '9 julio, 2021', 'https://manya.pe/crece-el-escenario-digital-en-el-peru-y-manya-crece-contigo%f0%9f%87%b5%f0%9f%87%aa/']\n",
            "['5 ideas para incrementar la tasa de apertura de tus mailing', 1504, 1, 'Team Manya', '', '2 julio, 2021', 'https://manya.pe/5-ideas-para-incrementar-la-tasa-de-apertura-de-tus-mailing/']\n",
            "['Campañas de marketing, persuasión más allá de lo comercial', 1202, 1, 'Antony Castillo', 'Redactor creativo', '25 junio, 2021', 'https://manya.pe/campanas-de-marketing-persuasion-mas-alla-de-lo-comercial/']\n",
            "['¡Aprende a medir el performance de las campañas de marketing de tu agencia!', 974, 3, 'Braulio Palús', 'Analista de Medios', '18 junio, 2021', 'https://manya.pe/aprende-a-medir-el-performance-de-las-campanas-de-marketing-de-tu-agencia/']\n",
            "['Miniguía del Marketing Inmobiliario: Las Claves del Éxito', 1250, 1, 'Team Manya', '', '11 junio, 2021', 'https://manya.pe/miniguia-del-marketing-inmobiliario-las-claves-del-exito/']\n",
            "['¿Acaso necesito una estrategia de marketing digital para mi negocio? 🤔', 1235, 1, 'Aldo Baca', 'Lean Leader Creativo', '4 junio, 2021', 'https://manya.pe/acaso-necesito-una-estrategia-de-marketing-digital-para-mi-negocio-%f0%9f%a4%94/']\n",
            "['Marketing de contenidos, el arte de entender qué necesitan tus clientes', 1072, 1, 'Antony Castillo', 'Redactor creativo', '28 mayo, 2021', 'https://manya.pe/marketing-de-contenidos-el-arte-de-entender-que-necesitan-tus-clientes/']\n",
            "['Las 5 industrias más afectadas por los reviews online', 1098, 1, 'Aldo Baca', 'Lean Leader Creativo', '21 mayo, 2021', 'https://manya.pe/las-5-industrias-mas-afectadas-por-los-reviews-online/']\n",
            "['Psicología positiva y trabajo: tips para aplicar en tu entorno laboral', 712, 1, 'Gianfranco Sipán', '', '14 mayo, 2021', 'https://manya.pe/psicologia-positiva-y-trabajo-tips-para-aplicar-en-tu-entorno-laboral/']\n",
            "['¡Haz algo con el blog de tu marca!', 900, 1, 'Team Manya', '', '7 mayo, 2021', 'https://manya.pe/haz-algo-con-el-blog-de-tu-marca/']\n",
            "['LinkedIn para empresas: todo lo que necesitas saber', 874, 1, 'Antony Castillo', 'Redactor creativo', '30 abril, 2021', 'https://manya.pe/linkedin-para-empresas-todo-lo-que-necesitas-saber/']\n",
            "['¿No entiendes de qué está hablando tu agencia?', 662, 4, 'Aldo Baca', 'Lean Leader Creativo', '23 abril, 2021', 'https://manya.pe/no-entiendes-de-que-esta-hablando-tu-agencia/']\n",
            "['¿Es buena idea seguir con tu actual agencia de marketing digital?', 1333, 1, 'Roy Sandoval', 'Community Manager | Editor de Contenido', '16 abril, 2021', 'https://manya.pe/es-buena-idea-seguir-con-tu-actual-agencia-de-marketing-digital/']\n",
            "['¿Sabes cómo destacar tu contenido de marca en TikTok?', 1745, 1, 'Team Manya', '', '26 marzo, 2021', 'https://manya.pe/sabes-como-destacar-tu-contenido-de-marca-en-tik-tok/']\n",
            "['Vender por redes sociales: ¿realidad o mito?', 913, 1, 'Antony Castillo', 'Redactor creativo', '12 marzo, 2021', 'https://manya.pe/vender-por-redes-sociales-realidad-o-mito/']\n",
            "['Top 10 trends del marketing digital para el 2021', 1189, 1, 'Aldo Baca', 'Lean Leader Creativo', '5 marzo, 2021', 'https://manya.pe/top-10-trends-del-marketing-digital-para-el-2021/']\n",
            "['Guía corta para encontrar a tu influencer', 1047, 1, 'Roy Sandoval', 'Community Manager | Editor de Contenido', '15 febrero, 2021', 'https://manya.pe/guia-corta-para-encontrar-a-tu-influencer/']\n",
            "['¿Qué debes hacer si tu web no está convirtiendo?', 1060, 1, 'Yankale Hochman', 'CEO de la Agencia Manya.pe', '9 marzo, 2020', 'https://manya.pe/que-debes-hacer-si-tu-web-no-esta-convirtiendo/']\n",
            "['¿Cuál es el KPI más importante en la publicidad?', 538, 1, 'Yankale Hochman', 'CEO de la Agencia Manya.pe', '22 junio, 2017', 'https://manya.pe/cual-es-kpi-mas-importante-en-publicidad/']\n",
            "['La creación del Superhumano', 581, 1, 'Roy Pessis', 'CPO de Manya.pe', '9 junio, 2017', 'https://manya.pe/la-creacion-del-superhumano/']\n",
            "['¿Cómo una campaña digital puede alcanzar el éxito?', 646, 1, 'Yankale Hochman', 'CEO de la Agencia Manya.pe', '10 febrero, 2017', 'https://manya.pe/como-una-campana-digital-puede-alcanzar-el-exito/']\n",
            "['Lo que tu negocio necesita este 2017', 749, 1, 'Yankale Hochman', 'CEO de la Agencia Manya.pe', '29 diciembre, 2016', 'https://manya.pe/lo-que-tu-negocio-necesita-este-2017/']\n",
            "['Cómo Pokemon Go acelera la revolución digital', 768, 4, 'Roy Pessis', 'CPO de Manya.pe', '22 agosto, 2016', 'https://manya.pe/como-pokemon-go-acelera-la-revolucion-digital/']\n",
            "['¿Sueñas con tu éxito antes de dormir?', 269, 1, 'Yankale Hochman', 'CEO de la Agencia Manya.pe', '19 enero, 2016', 'https://manya.pe/suenas-con-tu-exito-antes-de-dormir/']\n",
            "['¿Para qué Políticas y Términos?', 367, 1, 'Yankale Hochman', 'CEO de la Agencia Manya.pe', '26 noviembre, 2015', 'https://manya.pe/para-que-politicas-y-terminos/']\n",
            "['Redes sociales que generan valor: ¿venden o no venden?', 251, 1, 'Yankale Hochman', 'CEO de la Agencia Manya.pe', '22 mayo, 2015', 'https://manya.pe/redes-sociales-que-generan-valor-venden-o-no-venden/']\n",
            "['Tendencias de consumo para el 2015', 415, 2, 'Yankale Hochman', 'CEO de la Agencia Manya.pe', '19 febrero, 2015', 'https://manya.pe/tendencias-de-consumo-para-el-2015/']\n",
            "['Pymes crecen al adaptar versión web del negocio a dispositivos móviles', 217, 1, 'Yankale Hochman', 'CEO de la Agencia Manya.pe', '18 enero, 2015', 'https://manya.pe/pymes-crecen-al-adaptar-version-web-del-negocio-a-dispositivos-moviles/']\n",
            "['Gestión profesional del área digital de tu empresa', 288, 1, 'Yankale Hochman', 'CEO de la Agencia Manya.pe', '17 enero, 2015', 'https://manya.pe/gestion-profesional-del-area-digital-de-tu-empresa/']\n",
            "['Creación de una página web persuasiva para generar más clientes', 367, 1, 'Yankale Hochman', 'CEO de la Agencia Manya.pe', '16 enero, 2015', 'https://manya.pe/creacion-de-una-pagina-web-persuasiva-para-generar-mas-clientes/']\n",
            "['Auditoría y consultoría de Marketing Digital', 329, 1, 'Yankale Hochman', 'CEO de la Agencia Manya.pe', '15 enero, 2015', 'https://manya.pe/auditoria-y-consultoria-de-marketing-digital/']\n",
            "['Manejo de campañas digitales', 292, 1, 'Yankale Hochman', 'CEO de la Agencia Manya.pe', '17 diciembre, 2014', 'https://manya.pe/manejo-de-campanas-digitales/']\n",
            "['Aplicaciones móviles UX', 311, 1, 'Yankale Hochman', 'CEO de la Agencia Manya.pe', '15 diciembre, 2014', 'https://manya.pe/aplicaciones-moviles-ux/']\n",
            "['Creación de imagen e identidad corporativa', 255, 1, 'Yankale Hochman', 'CEO de la Agencia Manya.pe', '13 diciembre, 2014', 'https://manya.pe/creacion-de-imagen-e-identidad-corporativa/']\n",
            "['Metodología Lean Startup', 218, 1, 'Yankale Hochman', 'CEO de la Agencia Manya.pe', '11 diciembre, 2014', 'https://manya.pe/metodologia-lean-startup/']\n",
            "['Metodología Scrum', 235, 1, 'Yankale Hochman', 'CEO de la Agencia Manya.pe', '5 diciembre, 2014', 'https://manya.pe/metodologia-scrum/']\n",
            "['Metodología Design Thinking', 306, 1, 'Yankale Hochman', 'CEO de la Agencia Manya.pe', '3 noviembre, 2014', 'https://manya.pe/metodologia-design-thinking/']\n",
            "['Metodología Lean UX', 207, 1, 'Yankale Hochman', 'CEO de la Agencia Manya.pe', '9 septiembre, 2014', 'https://manya.pe/metodologia-lean-ux/']\n",
            "['Porqué ser el primero en google ya no es suficiente…', 405, 1, 'Yankale Hochman', 'CEO de la Agencia Manya.pe', '20 febrero, 2014', 'https://manya.pe/porque-ser-el-primero-en-google-ya-no-es-suficiente/']\n",
            "['¿Cuánto te cuesta un cliente?', 505, 2, 'Yankale Hochman', 'CEO de la Agencia Manya.pe', '7 febrero, 2014', 'https://manya.pe/cuanto-te-cuesta-un-cliente/']\n",
            "['¿Qué genera felicidad en tus clientes?', 374, 1, 'Yankale Hochman', 'CEO de la Agencia Manya.pe', '5 noviembre, 2013', 'https://manya.pe/que-genera-felicidad-en-tus-clientes/']\n",
            "['La receta perfecta para tu página web', 612, 1, 'Yankale Hochman', 'CEO de la Agencia Manya.pe', '21 octubre, 2013', 'https://manya.pe/la-receta-perfecta-para-tu-pagina-web/']\n",
            "['Invertiste en tu web ¿Y no tienes resultados?', 441, 1, 'Yankale Hochman', 'CEO de la Agencia Manya.pe', '1 septiembre, 2013', 'https://manya.pe/invertiste-en-tu-web-y-no-tienes-resultados/']\n",
            "['Cómo hacer un focus group con 100 personas', 444, 1, 'Yankale Hochman', 'CEO de la Agencia Manya.pe', '1 septiembre, 2013', 'https://manya.pe/como-hacer-un-focus-group-con-100-personas/']\n",
            "['Artículos emocionales', 468, 4, 'Yankale Hochman', 'CEO de la Agencia Manya.pe', '7 mayo, 2013', 'https://manya.pe/articulos-emocionales/']\n",
            "['No hacemos páginas web, creamos negocios', 257, 1, 'Yankale Hochman', 'CEO de la Agencia Manya.pe', '7 mayo, 2013', 'https://manya.pe/no-hacemos-paginas-web-creamos-negocios/']\n",
            "['Quiero una página web económica', 435, 1, 'Yankale Hochman', 'CEO de la Agencia Manya.pe', '15 marzo, 2013', 'https://manya.pe/quiero-una-pagina-web-economica/']\n",
            "['Entérate de algunos de nuestros secretos', 812, 1, 'Yankale Hochman', 'CEO de la Agencia Manya.pe', '18 junio, 2012', 'https://manya.pe/enterate-de-algunos-de-nuestros-secretos/']\n",
            "['UX no es el objetivo, solo es el camino', 810, 3, 'Yankale Hochman', 'CEO de la Agencia Manya.pe', '9 mayo, 2012', 'https://manya.pe/ux-no-es-el-objetivo-solo-es-el-camino/']\n",
            "['¿Cuánto cuesta una página web?', 415, 1, 'Yankale Hochman', 'CEO de la Agencia Manya.pe', '9 mayo, 2012', 'https://manya.pe/cuanto-cuesta-una-pagina-web/']\n",
            "['¿Está la competencia mejor que tú?', 1003, 1, 'Yankale Hochman', 'CEO de la Agencia Manya.pe', '9 abril, 2012', 'https://manya.pe/esta-la-competencia-mejor-que-tu/']\n",
            "['Tu página web no es una tarjeta de presentación', 799, 1, 'Yankale Hochman', 'CEO de la Agencia Manya.pe', '8 abril, 2012', 'https://manya.pe/tu-pagina-web-no-es-una-tarjeta-de-presentacion/']\n",
            "['Yo también quiero el éxito de mi página web', 538, 1, 'Yankale Hochman', 'CEO de la Agencia Manya.pe', '7 abril, 2012', 'https://manya.pe/yo-tambien-quiero-el-exito-de-mi-pagina-web/']\n",
            "['Las palabras tienen poder', 320, 1, 'Yankale Hochman', 'CEO de la Agencia Manya.pe', '26 marzo, 2012', 'https://manya.pe/las-palabras-tienen-poder/']\n",
            "['Es posible vender por Internet', 329, 1, 'Yankale Hochman', 'CEO de la Agencia Manya.pe', '31 enero, 2012', 'https://manya.pe/es-posible-vender-por-internet/']\n",
            "['Esta navidad todo es posible', 295, 1, 'Yankale Hochman', 'CEO de la Agencia Manya.pe', '19 diciembre, 2011', 'https://manya.pe/esta-navidad-todo-es-posible/']\n",
            "['Reinventamos la pasión…', 354, 1, 'Yankale Hochman', 'CEO de la Agencia Manya.pe', '7 noviembre, 2011', 'https://manya.pe/reinventamos-la-pasion/']\n"
          ]
        }
      ]
    }
  ],
  "metadata": {
    "kernelspec": {
      "display_name": "Python 3",
      "language": "python",
      "name": "python3"
    },
    "language_info": {
      "codemirror_mode": {
        "name": "ipython",
        "version": 3
      },
      "file_extension": ".py",
      "mimetype": "text/x-python",
      "name": "python",
      "nbconvert_exporter": "python",
      "pygments_lexer": "ipython3",
      "version": "3.6.9"
    },
    "colab": {
      "name": "Manya scraper.ipynb",
      "provenance": [],
      "collapsed_sections": [
        "4CqZiATcVZ3e",
        "GAN8O6W-VNyt",
        "m2TdEqFYjqRd",
        "eRD9HUnSriTC",
        "d0U5j6fx2K1K",
        "C_BSqYom4CQC",
        "0nO2FJM04er4",
        "j2j3FEim4xUK",
        "RuotwBPc44W7"
      ],
      "include_colab_link": true
    }
  },
  "nbformat": 4,
  "nbformat_minor": 5
}